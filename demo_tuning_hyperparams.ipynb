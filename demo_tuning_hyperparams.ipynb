{
 "cells": [
  {
   "cell_type": "code",
   "execution_count": 1,
   "metadata": {},
   "outputs": [
    {
     "name": "stdout",
     "output_type": "stream",
     "text": [
      "Better speed can be achieved with apex installed from https://www.github.com/nvidia/apex.\n"
     ]
    }
   ],
   "source": [
    "import numpy as np\n",
    "import pandas as pd\n",
    "import os\n",
    "import math\n",
    "import random\n",
    "import csv\n",
    "import sys\n",
    "from sklearn import metrics\n",
    "from sklearn.metrics import classification_report\n",
    "\n",
    "from bert_sklearn import BertClassifier\n",
    "from bert_sklearn import BertRegressor\n",
    "from bert_sklearn import load_model\n",
    "\n",
    "DATADIR = os.getcwd() + '/glue_examples/glue_data'\n",
    "\n",
    "def read_tsv(filename,quotechar=None):\n",
    "    with open(filename, \"r\", encoding='utf-8') as f:\n",
    "        return list(csv.reader(f,delimiter=\"\\t\",quotechar=quotechar))   "
   ]
  },
  {
   "cell_type": "markdown",
   "metadata": {},
   "source": [
    "\n",
    "We will use the SST-2 (Stanford Sentiment Treebank) data set.\n",
    "\n",
    "The input features are short sentences and the labels are the standard sentiment polarity of:\n",
    "*    0 for negative \n",
    "*    1 for positive."
   ]
  },
  {
   "cell_type": "code",
   "execution_count": 2,
   "metadata": {},
   "outputs": [
    {
     "name": "stdout",
     "output_type": "stream",
     "text": [
      "Downloading and extracting SST...\n",
      "\tCompleted!\n"
     ]
    }
   ],
   "source": [
    "%%bash\n",
    "python3 ./glue_examples/download_glue_data.py --data_dir ./glue_examples//glue_data --tasks SST "
   ]
  },
  {
   "cell_type": "code",
   "execution_count": 2,
   "metadata": {},
   "outputs": [
    {
     "name": "stdout",
     "output_type": "stream",
     "text": [
      "SST-2 train data size: 67349 \n",
      "SST-2 dev data size: 872 \n"
     ]
    },
    {
     "data": {
      "text/html": [
       "<div>\n",
       "<style scoped>\n",
       "    .dataframe tbody tr th:only-of-type {\n",
       "        vertical-align: middle;\n",
       "    }\n",
       "\n",
       "    .dataframe tbody tr th {\n",
       "        vertical-align: top;\n",
       "    }\n",
       "\n",
       "    .dataframe thead th {\n",
       "        text-align: right;\n",
       "    }\n",
       "</style>\n",
       "<table border=\"1\" class=\"dataframe\">\n",
       "  <thead>\n",
       "    <tr style=\"text-align: right;\">\n",
       "      <th></th>\n",
       "      <th>text</th>\n",
       "      <th>label</th>\n",
       "    </tr>\n",
       "  </thead>\n",
       "  <tbody>\n",
       "    <tr>\n",
       "      <th>66730</th>\n",
       "      <td>with outtakes in which most of the characters ...</td>\n",
       "      <td>0</td>\n",
       "    </tr>\n",
       "    <tr>\n",
       "      <th>29890</th>\n",
       "      <td>enigma is well-made</td>\n",
       "      <td>1</td>\n",
       "    </tr>\n",
       "    <tr>\n",
       "      <th>45801</th>\n",
       "      <td>is ) so stoked to make an important film about...</td>\n",
       "      <td>0</td>\n",
       "    </tr>\n",
       "    <tr>\n",
       "      <th>29352</th>\n",
       "      <td>the closest thing to the experience of space t...</td>\n",
       "      <td>1</td>\n",
       "    </tr>\n",
       "    <tr>\n",
       "      <th>19858</th>\n",
       "      <td>lose their luster</td>\n",
       "      <td>0</td>\n",
       "    </tr>\n",
       "  </tbody>\n",
       "</table>\n",
       "</div>"
      ],
      "text/plain": [
       "                                                    text  label\n",
       "66730  with outtakes in which most of the characters ...      0\n",
       "29890                               enigma is well-made       1\n",
       "45801  is ) so stoked to make an important film about...      0\n",
       "29352  the closest thing to the experience of space t...      1\n",
       "19858                                 lose their luster       0"
      ]
     },
     "execution_count": 2,
     "metadata": {},
     "output_type": "execute_result"
    }
   ],
   "source": [
    "\"\"\"\n",
    "SST-2 train data size: 67349 \n",
    "SST-2 dev data size: 872 \n",
    "\"\"\"\n",
    "def get_sst_data(train_file = DATADIR + '/SST-2/train.tsv',\n",
    "                dev_file  = DATADIR + '/SST-2/dev.tsv'):\n",
    "    \n",
    "    train = pd.read_csv(train_file, sep='\\t',  encoding = 'utf8',keep_default_na=False)\n",
    "    train.columns=['text','label']\n",
    "    print(\"SST-2 train data size: %d \"%(len(train)))\n",
    "    \n",
    "    dev = pd.read_csv(dev_file, sep='\\t',  encoding = 'utf8',keep_default_na=False)\n",
    "    dev.columns=['text','label']\n",
    "    print(\"SST-2 dev data size: %d \"%(len(dev)))\n",
    "    label_list = np.unique(train['label'])\n",
    "    \n",
    "    return train,dev,label_list\n",
    "\n",
    "train,dev,label_list = get_sst_data()\n",
    "\n",
    "# subsample data for demo\n",
    "train = train.sample(1000,random_state=42)\n",
    "\n",
    "X_train = train['text']\n",
    "y_train = train['label']\n",
    "\n",
    "X_dev = dev['text']\n",
    "y_dev = dev['label']\n",
    "\n",
    "train.head()"
   ]
  },
  {
   "cell_type": "markdown",
   "metadata": {},
   "source": [
    "Suppose we want to tune over some the hyperparameters mentioned in the paper:\n",
    "* **`epochs`** in  [3, 4]\n",
    "* **`learning rate`** in  [2e-5, 3e-5, 5e-5]"
   ]
  },
  {
   "cell_type": "markdown",
   "metadata": {},
   "source": [
    "## Option 1: Use **`tune_params`** to  fit on train and tune  on holdout set \n",
    "\n",
    "Here the variation can come from different random states used in the fitting\n",
    "\n",
    "The default in **`tune_params`** has 4 random  seeds"
   ]
  },
  {
   "cell_type": "code",
   "execution_count": 4,
   "metadata": {},
   "outputs": [
    {
     "name": "stdout",
     "output_type": "stream",
     "text": [
      "Building sklearn classifier...\n",
      "============================================================\n",
      "epochs: 3\n",
      "learning_rate: 2e-05\n",
      "max_seq_length: 128\n",
      "num_mlp_layers: 0\n",
      "train_batch_size: 32\n",
      "============================================================\n",
      "Using random seed : 42\n",
      "Building sklearn classifier...\n",
      "Loading bert-base-uncased model...\n",
      "Defaulting to linear classifier/regressor\n",
      "train data size: 1000, validation data size: 0\n"
     ]
    },
    {
     "name": "stderr",
     "output_type": "stream",
     "text": [
      "Training: 100%|██████████| 32/32 [00:25<00:00,  1.54it/s, loss=0.583]\n",
      "Training: 100%|██████████| 32/32 [00:23<00:00,  1.53it/s, loss=0.282]\n",
      "Training: 100%|██████████| 32/32 [00:23<00:00,  1.53it/s, loss=0.15] \n",
      "                                                          \r"
     ]
    },
    {
     "name": "stdout",
     "output_type": "stream",
     "text": [
      "\n",
      "Test loss: 0.3114, Test accuracy = 87.73%\n",
      "score: 87.73\n",
      "\n",
      "Using random seed : 134\n",
      "Building sklearn classifier...\n",
      "Loading bert-base-uncased model...\n",
      "Defaulting to linear classifier/regressor\n",
      "train data size: 1000, validation data size: 0\n"
     ]
    },
    {
     "name": "stderr",
     "output_type": "stream",
     "text": [
      "Training: 100%|██████████| 32/32 [00:23<00:00,  1.53it/s, loss=0.656]\n",
      "Training: 100%|██████████| 32/32 [00:24<00:00,  1.46it/s, loss=0.34] \n",
      "Training: 100%|██████████| 32/32 [00:24<00:00,  1.47it/s, loss=0.163]\n",
      "                                                          \r"
     ]
    },
    {
     "name": "stdout",
     "output_type": "stream",
     "text": [
      "\n",
      "Test loss: 0.3054, Test accuracy = 87.96%\n",
      "score: 87.96\n",
      "\n",
      "Using random seed : 6\n",
      "Building sklearn classifier...\n",
      "Loading bert-base-uncased model...\n",
      "Defaulting to linear classifier/regressor\n",
      "train data size: 1000, validation data size: 0\n"
     ]
    },
    {
     "name": "stderr",
     "output_type": "stream",
     "text": [
      "Training: 100%|██████████| 32/32 [00:23<00:00,  1.46it/s, loss=0.598]\n",
      "Training: 100%|██████████| 32/32 [00:24<00:00,  1.45it/s, loss=0.245]\n",
      "Training: 100%|██████████| 32/32 [00:24<00:00,  1.45it/s, loss=0.123]\n",
      "                                                          \r"
     ]
    },
    {
     "name": "stdout",
     "output_type": "stream",
     "text": [
      "\n",
      "Test loss: 0.2898, Test accuracy = 88.76%\n",
      "score: 88.76\n",
      "\n",
      "Using random seed : 8\n",
      "Building sklearn classifier...\n",
      "Loading bert-base-uncased model...\n",
      "Defaulting to linear classifier/regressor\n",
      "train data size: 1000, validation data size: 0\n"
     ]
    },
    {
     "name": "stderr",
     "output_type": "stream",
     "text": [
      "Training: 100%|██████████| 32/32 [00:23<00:00,  1.45it/s, loss=0.537]\n",
      "Training: 100%|██████████| 32/32 [00:24<00:00,  1.45it/s, loss=0.221]\n",
      "Training: 100%|██████████| 32/32 [00:24<00:00,  1.45it/s, loss=0.096] \n",
      "                                                          \r"
     ]
    },
    {
     "name": "stdout",
     "output_type": "stream",
     "text": [
      "\n",
      "Test loss: 0.3211, Test accuracy = 87.50%\n",
      "score: 87.50\n",
      "\n",
      "============================================================\n",
      "epochs: 3\n",
      "learning_rate: 3e-05\n",
      "max_seq_length: 128\n",
      "num_mlp_layers: 0\n",
      "train_batch_size: 32\n",
      "============================================================\n",
      "Using random seed : 42\n",
      "Building sklearn classifier...\n",
      "Loading bert-base-uncased model...\n",
      "Defaulting to linear classifier/regressor\n",
      "train data size: 1000, validation data size: 0\n"
     ]
    },
    {
     "name": "stderr",
     "output_type": "stream",
     "text": [
      "Training: 100%|██████████| 32/32 [00:24<00:00,  1.45it/s, loss=0.572]\n",
      "Training: 100%|██████████| 32/32 [00:24<00:00,  1.45it/s, loss=0.196]\n",
      "Training: 100%|██████████| 32/32 [00:24<00:00,  1.45it/s, loss=0.0744]\n",
      "                                                          \r"
     ]
    },
    {
     "name": "stdout",
     "output_type": "stream",
     "text": [
      "\n",
      "Test loss: 0.3444, Test accuracy = 86.70%\n",
      "score: 86.70\n",
      "\n",
      "Using random seed : 134\n",
      "Building sklearn classifier...\n",
      "Loading bert-base-uncased model...\n",
      "Defaulting to linear classifier/regressor\n",
      "train data size: 1000, validation data size: 0\n"
     ]
    },
    {
     "name": "stderr",
     "output_type": "stream",
     "text": [
      "Training: 100%|██████████| 32/32 [00:24<00:00,  1.45it/s, loss=0.608]\n",
      "Training: 100%|██████████| 32/32 [00:24<00:00,  1.45it/s, loss=0.232]\n",
      "Training: 100%|██████████| 32/32 [00:24<00:00,  1.45it/s, loss=0.092] \n",
      "                                                          \r"
     ]
    },
    {
     "name": "stdout",
     "output_type": "stream",
     "text": [
      "\n",
      "Test loss: 0.2870, Test accuracy = 88.88%\n",
      "score: 88.88\n",
      "\n",
      "Using random seed : 6\n",
      "Building sklearn classifier...\n",
      "Loading bert-base-uncased model...\n",
      "Defaulting to linear classifier/regressor\n",
      "train data size: 1000, validation data size: 0\n"
     ]
    },
    {
     "name": "stderr",
     "output_type": "stream",
     "text": [
      "Training: 100%|██████████| 32/32 [00:24<00:00,  1.45it/s, loss=0.724]\n",
      "Training: 100%|██████████| 32/32 [00:24<00:00,  1.45it/s, loss=0.438]\n",
      "Training: 100%|██████████| 32/32 [00:24<00:00,  1.45it/s, loss=0.195]\n",
      "                                                          \r"
     ]
    },
    {
     "name": "stdout",
     "output_type": "stream",
     "text": [
      "\n",
      "Test loss: 0.3039, Test accuracy = 87.39%\n",
      "score: 87.39\n",
      "\n",
      "Using random seed : 8\n",
      "Building sklearn classifier...\n",
      "Loading bert-base-uncased model...\n",
      "Defaulting to linear classifier/regressor\n",
      "train data size: 1000, validation data size: 0\n"
     ]
    },
    {
     "name": "stderr",
     "output_type": "stream",
     "text": [
      "Training: 100%|██████████| 32/32 [00:24<00:00,  1.45it/s, loss=0.525]\n",
      "Training: 100%|██████████| 32/32 [00:24<00:00,  1.45it/s, loss=0.178]\n",
      "Training: 100%|██████████| 32/32 [00:24<00:00,  1.45it/s, loss=0.0722]\n",
      "                                                          \r"
     ]
    },
    {
     "name": "stdout",
     "output_type": "stream",
     "text": [
      "\n",
      "Test loss: 0.3384, Test accuracy = 88.19%\n",
      "score: 88.19\n",
      "\n",
      "============================================================\n",
      "epochs: 3\n",
      "learning_rate: 5e-05\n",
      "max_seq_length: 128\n",
      "num_mlp_layers: 0\n",
      "train_batch_size: 32\n",
      "============================================================\n",
      "Using random seed : 42\n",
      "Building sklearn classifier...\n",
      "Loading bert-base-uncased model...\n",
      "Defaulting to linear classifier/regressor\n",
      "train data size: 1000, validation data size: 0\n"
     ]
    },
    {
     "name": "stderr",
     "output_type": "stream",
     "text": [
      "Training: 100%|██████████| 32/32 [00:24<00:00,  1.45it/s, loss=0.623]\n",
      "Training: 100%|██████████| 32/32 [00:24<00:00,  1.45it/s, loss=0.218]\n",
      "Training: 100%|██████████| 32/32 [00:24<00:00,  1.45it/s, loss=0.0639]\n",
      "                                                          \r"
     ]
    },
    {
     "name": "stdout",
     "output_type": "stream",
     "text": [
      "\n",
      "Test loss: 0.3546, Test accuracy = 86.58%\n",
      "score: 86.58\n",
      "\n",
      "Using random seed : 134\n",
      "Building sklearn classifier...\n",
      "Loading bert-base-uncased model...\n",
      "Defaulting to linear classifier/regressor\n",
      "train data size: 1000, validation data size: 0\n"
     ]
    },
    {
     "name": "stderr",
     "output_type": "stream",
     "text": [
      "Training: 100%|██████████| 32/32 [00:24<00:00,  1.46it/s, loss=0.623]\n",
      "Training: 100%|██████████| 32/32 [00:24<00:00,  1.45it/s, loss=0.256]\n",
      "Training: 100%|██████████| 32/32 [00:24<00:00,  1.44it/s, loss=0.083] \n",
      "                                                          \r"
     ]
    },
    {
     "name": "stdout",
     "output_type": "stream",
     "text": [
      "\n",
      "Test loss: 0.3124, Test accuracy = 88.30%\n",
      "score: 88.30\n",
      "\n",
      "Using random seed : 6\n",
      "Building sklearn classifier...\n",
      "Loading bert-base-uncased model...\n",
      "Defaulting to linear classifier/regressor\n",
      "train data size: 1000, validation data size: 0\n"
     ]
    },
    {
     "name": "stderr",
     "output_type": "stream",
     "text": [
      "Training: 100%|██████████| 32/32 [00:24<00:00,  1.45it/s, loss=0.635]\n",
      "Training: 100%|██████████| 32/32 [00:24<00:00,  1.45it/s, loss=0.317]\n",
      "Training: 100%|██████████| 32/32 [00:24<00:00,  1.45it/s, loss=0.144]\n",
      "                                                          \r"
     ]
    },
    {
     "name": "stdout",
     "output_type": "stream",
     "text": [
      "\n",
      "Test loss: 0.3467, Test accuracy = 86.01%\n",
      "score: 86.01\n",
      "\n",
      "Using random seed : 8\n",
      "Building sklearn classifier...\n",
      "Loading bert-base-uncased model...\n",
      "Defaulting to linear classifier/regressor\n",
      "train data size: 1000, validation data size: 0\n"
     ]
    },
    {
     "name": "stderr",
     "output_type": "stream",
     "text": [
      "Training: 100%|██████████| 32/32 [00:24<00:00,  1.45it/s, loss=0.577]\n",
      "Training: 100%|██████████| 32/32 [00:24<00:00,  1.45it/s, loss=0.249]\n",
      "Training: 100%|██████████| 32/32 [00:24<00:00,  1.45it/s, loss=0.0711]\n",
      "                                                          \r"
     ]
    },
    {
     "name": "stdout",
     "output_type": "stream",
     "text": [
      "\n",
      "Test loss: 0.3832, Test accuracy = 86.70%\n",
      "score: 86.70\n",
      "\n",
      "============================================================\n",
      "epochs: 4\n",
      "learning_rate: 2e-05\n",
      "max_seq_length: 128\n",
      "num_mlp_layers: 0\n",
      "train_batch_size: 32\n",
      "============================================================\n",
      "Using random seed : 42\n",
      "Building sklearn classifier...\n",
      "Loading bert-base-uncased model...\n",
      "Defaulting to linear classifier/regressor\n",
      "train data size: 1000, validation data size: 0\n"
     ]
    },
    {
     "name": "stderr",
     "output_type": "stream",
     "text": [
      "Training: 100%|██████████| 32/32 [00:24<00:00,  1.46it/s, loss=0.576]\n",
      "Training: 100%|██████████| 32/32 [00:24<00:00,  1.45it/s, loss=0.227]\n",
      "Training: 100%|██████████| 32/32 [00:24<00:00,  1.45it/s, loss=0.0709]\n",
      "Training: 100%|██████████| 32/32 [00:24<00:00,  1.45it/s, loss=0.0429]\n",
      "                                                          \r"
     ]
    },
    {
     "name": "stdout",
     "output_type": "stream",
     "text": [
      "\n",
      "Test loss: 0.3686, Test accuracy = 87.73%\n",
      "score: 87.73\n",
      "\n",
      "Using random seed : 134\n",
      "Building sklearn classifier...\n",
      "Loading bert-base-uncased model...\n",
      "Defaulting to linear classifier/regressor\n",
      "train data size: 1000, validation data size: 0\n"
     ]
    },
    {
     "name": "stderr",
     "output_type": "stream",
     "text": [
      "Training: 100%|██████████| 32/32 [00:24<00:00,  1.45it/s, loss=0.666]\n",
      "Training: 100%|██████████| 32/32 [00:24<00:00,  1.45it/s, loss=0.333]\n",
      "Training: 100%|██████████| 32/32 [00:24<00:00,  1.45it/s, loss=0.153]\n",
      "Training: 100%|██████████| 32/32 [00:24<00:00,  1.45it/s, loss=0.0909]\n",
      "                                                          \r"
     ]
    },
    {
     "name": "stdout",
     "output_type": "stream",
     "text": [
      "\n",
      "Test loss: 0.3458, Test accuracy = 86.81%\n",
      "score: 86.81\n",
      "\n",
      "Using random seed : 6\n",
      "Building sklearn classifier...\n",
      "Loading bert-base-uncased model...\n",
      "Defaulting to linear classifier/regressor\n",
      "train data size: 1000, validation data size: 0\n"
     ]
    },
    {
     "name": "stderr",
     "output_type": "stream",
     "text": [
      "Training: 100%|██████████| 32/32 [00:24<00:00,  1.45it/s, loss=0.598]\n",
      "Training: 100%|██████████| 32/32 [00:24<00:00,  1.45it/s, loss=0.253]\n",
      "Training: 100%|██████████| 32/32 [00:24<00:00,  1.45it/s, loss=0.113]\n",
      "Training: 100%|██████████| 32/32 [00:24<00:00,  1.45it/s, loss=0.074] \n",
      "                                                          \r"
     ]
    },
    {
     "name": "stdout",
     "output_type": "stream",
     "text": [
      "\n",
      "Test loss: 0.3166, Test accuracy = 88.30%\n",
      "score: 88.30\n",
      "\n",
      "Using random seed : 8\n",
      "Building sklearn classifier...\n",
      "Loading bert-base-uncased model...\n",
      "Defaulting to linear classifier/regressor\n",
      "train data size: 1000, validation data size: 0\n"
     ]
    },
    {
     "name": "stderr",
     "output_type": "stream",
     "text": [
      "Training: 100%|██████████| 32/32 [00:24<00:00,  1.45it/s, loss=0.536]\n",
      "Training: 100%|██████████| 32/32 [00:24<00:00,  1.45it/s, loss=0.23] \n",
      "Training: 100%|██████████| 32/32 [00:24<00:00,  1.45it/s, loss=0.0713]\n",
      "Training: 100%|██████████| 32/32 [00:24<00:00,  1.45it/s, loss=0.0561]\n",
      "                                                          \r"
     ]
    },
    {
     "name": "stdout",
     "output_type": "stream",
     "text": [
      "\n",
      "Test loss: 0.3473, Test accuracy = 87.61%\n",
      "score: 87.61\n",
      "\n",
      "============================================================\n",
      "epochs: 4\n",
      "learning_rate: 3e-05\n",
      "max_seq_length: 128\n",
      "num_mlp_layers: 0\n",
      "train_batch_size: 32\n",
      "============================================================\n",
      "Using random seed : 42\n",
      "Building sklearn classifier...\n",
      "Loading bert-base-uncased model...\n",
      "Defaulting to linear classifier/regressor\n",
      "train data size: 1000, validation data size: 0\n"
     ]
    },
    {
     "name": "stderr",
     "output_type": "stream",
     "text": [
      "Training: 100%|██████████| 32/32 [00:24<00:00,  1.45it/s, loss=0.573]\n",
      "Training: 100%|██████████| 32/32 [00:24<00:00,  1.45it/s, loss=0.31] \n",
      "Training: 100%|██████████| 32/32 [00:24<00:00,  1.46it/s, loss=0.109]\n",
      "Training: 100%|██████████| 32/32 [00:24<00:00,  1.45it/s, loss=0.0814]\n",
      "                                                          \r"
     ]
    },
    {
     "name": "stdout",
     "output_type": "stream",
     "text": [
      "\n",
      "Test loss: 0.3683, Test accuracy = 86.81%\n",
      "score: 86.81\n",
      "\n",
      "Using random seed : 134\n",
      "Building sklearn classifier...\n",
      "Loading bert-base-uncased model...\n",
      "Defaulting to linear classifier/regressor\n",
      "train data size: 1000, validation data size: 0\n"
     ]
    },
    {
     "name": "stderr",
     "output_type": "stream",
     "text": [
      "Training: 100%|██████████| 32/32 [00:24<00:00,  1.45it/s, loss=0.645]\n",
      "Training: 100%|██████████| 32/32 [00:24<00:00,  1.45it/s, loss=0.305]\n",
      "Training: 100%|██████████| 32/32 [00:24<00:00,  1.45it/s, loss=0.104]\n",
      "Training: 100%|██████████| 32/32 [00:24<00:00,  1.45it/s, loss=0.0575]\n",
      "                                                          \r"
     ]
    },
    {
     "name": "stdout",
     "output_type": "stream",
     "text": [
      "\n",
      "Test loss: 0.3491, Test accuracy = 87.96%\n",
      "score: 87.96\n",
      "\n",
      "Using random seed : 6\n",
      "Building sklearn classifier...\n",
      "Loading bert-base-uncased model...\n",
      "Defaulting to linear classifier/regressor\n",
      "train data size: 1000, validation data size: 0\n"
     ]
    },
    {
     "name": "stderr",
     "output_type": "stream",
     "text": [
      "Training: 100%|██████████| 32/32 [00:24<00:00,  1.45it/s, loss=0.641]\n",
      "Training: 100%|██████████| 32/32 [00:24<00:00,  1.45it/s, loss=0.268]\n",
      "Training: 100%|██████████| 32/32 [00:24<00:00,  1.45it/s, loss=0.099] \n",
      "Training: 100%|██████████| 32/32 [00:24<00:00,  1.46it/s, loss=0.0569]\n",
      "                                                          \r"
     ]
    },
    {
     "name": "stdout",
     "output_type": "stream",
     "text": [
      "\n",
      "Test loss: 0.3020, Test accuracy = 88.76%\n",
      "score: 88.76\n",
      "\n",
      "Using random seed : 8\n",
      "Building sklearn classifier...\n",
      "Loading bert-base-uncased model...\n",
      "Defaulting to linear classifier/regressor\n",
      "train data size: 1000, validation data size: 0\n"
     ]
    },
    {
     "name": "stderr",
     "output_type": "stream",
     "text": [
      "Training: 100%|██████████| 32/32 [00:23<00:00,  1.45it/s, loss=0.538]\n",
      "Training: 100%|██████████| 32/32 [00:24<00:00,  1.45it/s, loss=0.223]\n",
      "Training: 100%|██████████| 32/32 [00:24<00:00,  1.45it/s, loss=0.0988]\n",
      "Training: 100%|██████████| 32/32 [00:24<00:00,  1.45it/s, loss=0.057] \n",
      "                                                          \r"
     ]
    },
    {
     "name": "stdout",
     "output_type": "stream",
     "text": [
      "\n",
      "Test loss: 0.3176, Test accuracy = 88.65%\n",
      "score: 88.65\n",
      "\n",
      "============================================================\n",
      "epochs: 4\n",
      "learning_rate: 5e-05\n",
      "max_seq_length: 128\n",
      "num_mlp_layers: 0\n",
      "train_batch_size: 32\n",
      "============================================================\n",
      "Using random seed : 42\n",
      "Building sklearn classifier...\n",
      "Loading bert-base-uncased model...\n",
      "Defaulting to linear classifier/regressor\n",
      "train data size: 1000, validation data size: 0\n"
     ]
    },
    {
     "name": "stderr",
     "output_type": "stream",
     "text": [
      "Training: 100%|██████████| 32/32 [00:23<00:00,  1.45it/s, loss=0.619]\n",
      "Training: 100%|██████████| 32/32 [00:24<00:00,  1.45it/s, loss=0.261]\n",
      "Training: 100%|██████████| 32/32 [00:24<00:00,  1.45it/s, loss=0.0798]\n",
      "Training: 100%|██████████| 32/32 [00:24<00:00,  1.45it/s, loss=0.0393]\n",
      "                                                          \r"
     ]
    },
    {
     "name": "stdout",
     "output_type": "stream",
     "text": [
      "\n",
      "Test loss: 0.4940, Test accuracy = 85.21%\n",
      "score: 85.21\n",
      "\n",
      "Using random seed : 134\n",
      "Building sklearn classifier...\n",
      "Loading bert-base-uncased model...\n",
      "Defaulting to linear classifier/regressor\n",
      "train data size: 1000, validation data size: 0\n"
     ]
    },
    {
     "name": "stderr",
     "output_type": "stream",
     "text": [
      "Training: 100%|██████████| 32/32 [00:23<00:00,  1.45it/s, loss=0.591]\n",
      "Training: 100%|██████████| 32/32 [00:24<00:00,  1.45it/s, loss=0.284]\n",
      "Training: 100%|██████████| 32/32 [00:24<00:00,  1.45it/s, loss=0.0727]\n",
      "Training: 100%|██████████| 32/32 [00:24<00:00,  1.45it/s, loss=0.03]  \n",
      "                                                          \r"
     ]
    },
    {
     "name": "stdout",
     "output_type": "stream",
     "text": [
      "\n",
      "Test loss: 0.3830, Test accuracy = 88.07%\n",
      "score: 88.07\n",
      "\n",
      "Using random seed : 6\n",
      "Building sklearn classifier...\n",
      "Loading bert-base-uncased model...\n",
      "Defaulting to linear classifier/regressor\n",
      "train data size: 1000, validation data size: 0\n"
     ]
    },
    {
     "name": "stderr",
     "output_type": "stream",
     "text": [
      "Training: 100%|██████████| 32/32 [00:24<00:00,  1.45it/s, loss=0.59] \n",
      "Training: 100%|██████████| 32/32 [00:24<00:00,  1.45it/s, loss=0.245]\n",
      "Training: 100%|██████████| 32/32 [00:24<00:00,  1.45it/s, loss=0.0843]\n",
      "Training: 100%|██████████| 32/32 [00:24<00:00,  1.45it/s, loss=0.0384]\n",
      "                                                          \r"
     ]
    },
    {
     "name": "stdout",
     "output_type": "stream",
     "text": [
      "\n",
      "Test loss: 0.3685, Test accuracy = 87.61%\n",
      "score: 87.61\n",
      "\n",
      "Using random seed : 8\n",
      "Building sklearn classifier...\n",
      "Loading bert-base-uncased model...\n",
      "Defaulting to linear classifier/regressor\n",
      "train data size: 1000, validation data size: 0\n"
     ]
    },
    {
     "name": "stderr",
     "output_type": "stream",
     "text": [
      "Training: 100%|██████████| 32/32 [00:24<00:00,  1.45it/s, loss=0.599]\n",
      "Training: 100%|██████████| 32/32 [00:24<00:00,  1.45it/s, loss=0.283]\n",
      "Training: 100%|██████████| 32/32 [00:24<00:00,  1.44it/s, loss=0.0701]\n",
      "Training: 100%|██████████| 32/32 [00:24<00:00,  1.45it/s, loss=0.0409]\n",
      "                                                          \r"
     ]
    },
    {
     "name": "stdout",
     "output_type": "stream",
     "text": [
      "\n",
      "Test loss: 0.3433, Test accuracy = 88.65%\n",
      "score: 88.65\n",
      "\n",
      "87.987 (+/-1.098) for {'epochs': 3, 'learning_rate': 2e-05, 'max_seq_length': 128, 'num_mlp_layers': 0, 'train_batch_size': 32}\n",
      "87.787 (+/-1.896) for {'epochs': 3, 'learning_rate': 3e-05, 'max_seq_length': 128, 'num_mlp_layers': 0, 'train_batch_size': 32}\n",
      "86.898 (+/-1.967) for {'epochs': 3, 'learning_rate': 5e-05, 'max_seq_length': 128, 'num_mlp_layers': 0, 'train_batch_size': 32}\n",
      "87.615 (+/-1.228) for {'epochs': 4, 'learning_rate': 2e-05, 'max_seq_length': 128, 'num_mlp_layers': 0, 'train_batch_size': 32}\n",
      "88.045 (+/-1.790) for {'epochs': 4, 'learning_rate': 3e-05, 'max_seq_length': 128, 'num_mlp_layers': 0, 'train_batch_size': 32}\n",
      "87.385 (+/-3.025) for {'epochs': 4, 'learning_rate': 5e-05, 'max_seq_length': 128, 'num_mlp_layers': 0, 'train_batch_size': 32}\n",
      "Best mean score is 88.04, with params: {'epochs': 4, 'learning_rate': 3e-05, 'max_seq_length': 128, 'num_mlp_layers': 0, 'train_batch_size': 32}\n",
      "Building sklearn classifier...\n",
      "Loading bert-base-uncased model...\n",
      "Defaulting to linear classifier/regressor\n",
      "train data size: 1000, validation data size: 0\n"
     ]
    },
    {
     "name": "stderr",
     "output_type": "stream",
     "text": [
      "Training: 100%|██████████| 32/32 [00:24<00:00,  1.45it/s, loss=0.641]\n",
      "Training: 100%|██████████| 32/32 [00:24<00:00,  1.45it/s, loss=0.268]\n",
      "Training: 100%|██████████| 32/32 [00:24<00:00,  1.45it/s, loss=0.099] \n",
      "Training: 100%|██████████| 32/32 [00:24<00:00,  1.46it/s, loss=0.0569]"
     ]
    },
    {
     "name": "stdout",
     "output_type": "stream",
     "text": [
      "CPU times: user 37min 26s, sys: 17min 57s, total: 55min 23s\n",
      "Wall time: 44min 44s\n"
     ]
    },
    {
     "name": "stderr",
     "output_type": "stream",
     "text": [
      "\n"
     ]
    }
   ],
   "source": [
    "%%time\n",
    "\n",
    "# define model\n",
    "model = BertClassifier()\n",
    "\n",
    "# tune model\n",
    "tuned = model.tune_params(X_train, y_train,\n",
    "                          X_dev, y_dev,\n",
    "                          epochs = [3,4],                          \n",
    "                          learning_rate = [2e-5, 3e-5, 5e-5])\n"
   ]
  },
  {
   "cell_type": "code",
   "execution_count": 5,
   "metadata": {},
   "outputs": [
    {
     "data": {
      "text/plain": [
       "(BertClassifier(bert_model='bert-base-uncased', epochs=4, eval_batch_size=8,\n",
       "         fp16=False, gradient_accumulation_steps=1,\n",
       "         label_list=array([0, 1]), learning_rate=3e-05, local_rank=-1,\n",
       "         logfile='bert_sklearn.log', loss_scale=0, max_seq_length=128,\n",
       "         num_mlp_hiddens=500, num_mlp_layers=0, random_state=6,\n",
       "         restore_file=None, train_batch_size=32, use_cuda=True,\n",
       "         validation_fraction=0, warmup_proportion=0.1),\n",
       " {'epochs': 4,\n",
       "  'learning_rate': 3e-05,\n",
       "  'max_seq_length': 128,\n",
       "  'num_mlp_layers': 0,\n",
       "  'train_batch_size': 32},\n",
       " 88.0447247706422)"
      ]
     },
     "execution_count": 5,
     "metadata": {},
     "output_type": "execute_result"
    }
   ],
   "source": [
    "# scores\n",
    "all_scores = tuned['scores']\n",
    "\n",
    "best_param = tuned['best_param']\n",
    "\n",
    "best_score = tuned['best_score']\n",
    "\n",
    "best_model = tuned['best_model']\n",
    "\n",
    "best_model, best_param, best_score"
   ]
  },
  {
   "cell_type": "markdown",
   "metadata": {},
   "source": [
    "## Option 2:  Use sklearn's **`GridSearchCV`** to to fit on cv splits of train data"
   ]
  },
  {
   "cell_type": "code",
   "execution_count": 5,
   "metadata": {},
   "outputs": [
    {
     "name": "stdout",
     "output_type": "stream",
     "text": [
      "Building sklearn classifier...\n",
      "Fitting 3 folds for each of 6 candidates, totalling 18 fits\n",
      "Building sklearn classifier...\n",
      "Building sklearn classifier...\n",
      "Loading bert-base-uncased model...\n",
      "Defaulting to linear classifier/regressor\n",
      "train data size: 666, validation data size: 0\n"
     ]
    },
    {
     "name": "stderr",
     "output_type": "stream",
     "text": [
      "Training: 100%|██████████| 21/21 [00:17<00:00,  1.41it/s, loss=0.644]\n",
      "Training: 100%|██████████| 21/21 [00:15<00:00,  1.41it/s, loss=0.262]\n",
      "Training: 100%|██████████| 21/21 [00:15<00:00,  1.41it/s, loss=0.127]\n",
      "                                                           \r"
     ]
    },
    {
     "name": "stdout",
     "output_type": "stream",
     "text": [
      "Building sklearn classifier...\n",
      "Loading bert-base-uncased model...\n",
      "Defaulting to linear classifier/regressor\n",
      "train data size: 667, validation data size: 0\n"
     ]
    },
    {
     "name": "stderr",
     "output_type": "stream",
     "text": [
      "Training: 100%|██████████| 21/21 [00:15<00:00,  1.40it/s, loss=0.597]\n",
      "Training: 100%|██████████| 21/21 [00:15<00:00,  1.40it/s, loss=0.273]\n",
      "Training: 100%|██████████| 21/21 [00:15<00:00,  1.34it/s, loss=0.118]\n",
      "                                                           \r"
     ]
    },
    {
     "name": "stdout",
     "output_type": "stream",
     "text": [
      "Building sklearn classifier...\n",
      "Loading bert-base-uncased model...\n",
      "Defaulting to linear classifier/regressor\n",
      "train data size: 667, validation data size: 0\n"
     ]
    },
    {
     "name": "stderr",
     "output_type": "stream",
     "text": [
      "Training: 100%|██████████| 21/21 [00:15<00:00,  1.40it/s, loss=0.673]\n",
      "Training: 100%|██████████| 21/21 [00:16<00:00,  1.32it/s, loss=0.308]\n",
      "Training: 100%|██████████| 21/21 [00:16<00:00,  1.33it/s, loss=0.148]\n",
      "                                                           \r"
     ]
    },
    {
     "name": "stdout",
     "output_type": "stream",
     "text": [
      "Building sklearn classifier...\n",
      "Loading bert-base-uncased model...\n",
      "Defaulting to linear classifier/regressor\n",
      "train data size: 666, validation data size: 0\n"
     ]
    },
    {
     "name": "stderr",
     "output_type": "stream",
     "text": [
      "Training: 100%|██████████| 21/21 [00:15<00:00,  1.35it/s, loss=0.646]\n",
      "Training: 100%|██████████| 21/21 [00:16<00:00,  1.32it/s, loss=0.283]\n",
      "Training: 100%|██████████| 21/21 [00:16<00:00,  1.33it/s, loss=0.109] \n",
      "                                                           \r"
     ]
    },
    {
     "name": "stdout",
     "output_type": "stream",
     "text": [
      "Building sklearn classifier...\n",
      "Loading bert-base-uncased model...\n",
      "Defaulting to linear classifier/regressor\n",
      "train data size: 667, validation data size: 0\n"
     ]
    },
    {
     "name": "stderr",
     "output_type": "stream",
     "text": [
      "Training: 100%|██████████| 21/21 [00:15<00:00,  1.34it/s, loss=0.613]\n",
      "Training: 100%|██████████| 21/21 [00:16<00:00,  1.33it/s, loss=0.206]\n",
      "Training: 100%|██████████| 21/21 [00:16<00:00,  1.33it/s, loss=0.0713]\n",
      "                                                           \r"
     ]
    },
    {
     "name": "stdout",
     "output_type": "stream",
     "text": [
      "Building sklearn classifier...\n",
      "Loading bert-base-uncased model...\n",
      "Defaulting to linear classifier/regressor\n",
      "train data size: 667, validation data size: 0\n"
     ]
    },
    {
     "name": "stderr",
     "output_type": "stream",
     "text": [
      "Training: 100%|██████████| 21/21 [00:15<00:00,  1.33it/s, loss=0.651]\n",
      "Training: 100%|██████████| 21/21 [00:16<00:00,  1.32it/s, loss=0.288]\n",
      "Training: 100%|██████████| 21/21 [00:16<00:00,  1.32it/s, loss=0.137]\n",
      "                                                           \r"
     ]
    },
    {
     "name": "stdout",
     "output_type": "stream",
     "text": [
      "Building sklearn classifier...\n",
      "Loading bert-base-uncased model...\n",
      "Defaulting to linear classifier/regressor\n",
      "train data size: 666, validation data size: 0\n"
     ]
    },
    {
     "name": "stderr",
     "output_type": "stream",
     "text": [
      "Training: 100%|██████████| 21/21 [00:15<00:00,  1.34it/s, loss=0.708]\n",
      "Training: 100%|██████████| 21/21 [00:16<00:00,  1.33it/s, loss=0.7]  \n",
      "Training: 100%|██████████| 21/21 [00:16<00:00,  1.33it/s, loss=0.615]\n",
      "                                                           \r"
     ]
    },
    {
     "name": "stdout",
     "output_type": "stream",
     "text": [
      "Building sklearn classifier...\n",
      "Loading bert-base-uncased model...\n",
      "Defaulting to linear classifier/regressor\n",
      "train data size: 667, validation data size: 0\n"
     ]
    },
    {
     "name": "stderr",
     "output_type": "stream",
     "text": [
      "Training: 100%|██████████| 21/21 [00:15<00:00,  1.33it/s, loss=0.606]\n",
      "Training: 100%|██████████| 21/21 [00:16<00:00,  1.33it/s, loss=0.356]\n",
      "Training: 100%|██████████| 21/21 [00:16<00:00,  1.33it/s, loss=0.101] \n",
      "                                                           \r"
     ]
    },
    {
     "name": "stdout",
     "output_type": "stream",
     "text": [
      "Building sklearn classifier...\n",
      "Loading bert-base-uncased model...\n",
      "Defaulting to linear classifier/regressor\n",
      "train data size: 667, validation data size: 0\n"
     ]
    },
    {
     "name": "stderr",
     "output_type": "stream",
     "text": [
      "Training: 100%|██████████| 21/21 [00:15<00:00,  1.33it/s, loss=0.699]\n",
      "Training: 100%|██████████| 21/21 [00:16<00:00,  1.33it/s, loss=0.703]\n",
      "Training: 100%|██████████| 21/21 [00:16<00:00,  1.33it/s, loss=0.584]\n",
      "                                                           \r"
     ]
    },
    {
     "name": "stdout",
     "output_type": "stream",
     "text": [
      "Building sklearn classifier...\n",
      "Loading bert-base-uncased model...\n",
      "Defaulting to linear classifier/regressor\n",
      "train data size: 666, validation data size: 0\n"
     ]
    },
    {
     "name": "stderr",
     "output_type": "stream",
     "text": [
      "Training: 100%|██████████| 21/21 [00:15<00:00,  1.33it/s, loss=0.636]\n",
      "Training: 100%|██████████| 21/21 [00:16<00:00,  1.32it/s, loss=0.241]\n",
      "Training: 100%|██████████| 21/21 [00:16<00:00,  1.33it/s, loss=0.0874]\n",
      "Training: 100%|██████████| 21/21 [00:16<00:00,  1.33it/s, loss=0.0523]\n",
      "                                                           \r"
     ]
    },
    {
     "name": "stdout",
     "output_type": "stream",
     "text": [
      "Building sklearn classifier...\n",
      "Loading bert-base-uncased model...\n",
      "Defaulting to linear classifier/regressor\n",
      "train data size: 667, validation data size: 0\n"
     ]
    },
    {
     "name": "stderr",
     "output_type": "stream",
     "text": [
      "Training: 100%|██████████| 21/21 [00:15<00:00,  1.34it/s, loss=0.64] \n",
      "Training: 100%|██████████| 21/21 [00:16<00:00,  1.32it/s, loss=0.29] \n",
      "Training: 100%|██████████| 21/21 [00:16<00:00,  1.32it/s, loss=0.0936]\n",
      "Training: 100%|██████████| 21/21 [00:16<00:00,  1.32it/s, loss=0.0593]\n",
      "                                                           \r"
     ]
    },
    {
     "name": "stdout",
     "output_type": "stream",
     "text": [
      "Building sklearn classifier...\n",
      "Loading bert-base-uncased model...\n",
      "Defaulting to linear classifier/regressor\n",
      "train data size: 667, validation data size: 0\n"
     ]
    },
    {
     "name": "stderr",
     "output_type": "stream",
     "text": [
      "Training: 100%|██████████| 21/21 [00:15<00:00,  1.33it/s, loss=0.679]\n",
      "Training: 100%|██████████| 21/21 [00:16<00:00,  1.33it/s, loss=0.347]\n",
      "Training: 100%|██████████| 21/21 [00:16<00:00,  1.33it/s, loss=0.159]\n",
      "Training: 100%|██████████| 21/21 [00:16<00:00,  1.33it/s, loss=0.0998]\n",
      "                                                           \r"
     ]
    },
    {
     "name": "stdout",
     "output_type": "stream",
     "text": [
      "Building sklearn classifier...\n",
      "Loading bert-base-uncased model...\n",
      "Defaulting to linear classifier/regressor\n",
      "train data size: 666, validation data size: 0\n"
     ]
    },
    {
     "name": "stderr",
     "output_type": "stream",
     "text": [
      "Training: 100%|██████████| 21/21 [00:15<00:00,  1.33it/s, loss=0.64] \n",
      "Training: 100%|██████████| 21/21 [00:16<00:00,  1.33it/s, loss=0.281]\n",
      "Training: 100%|██████████| 21/21 [00:16<00:00,  1.33it/s, loss=0.0946]\n",
      "Training: 100%|██████████| 21/21 [00:16<00:00,  1.32it/s, loss=0.0502]\n",
      "                                                           \r"
     ]
    },
    {
     "name": "stdout",
     "output_type": "stream",
     "text": [
      "Building sklearn classifier...\n",
      "Loading bert-base-uncased model...\n",
      "Defaulting to linear classifier/regressor\n",
      "train data size: 667, validation data size: 0\n"
     ]
    },
    {
     "name": "stderr",
     "output_type": "stream",
     "text": [
      "Training: 100%|██████████| 21/21 [00:15<00:00,  1.33it/s, loss=0.567]\n",
      "Training: 100%|██████████| 21/21 [00:16<00:00,  1.33it/s, loss=0.268]\n",
      "Training: 100%|██████████| 21/21 [00:16<00:00,  1.32it/s, loss=0.0566]\n",
      "Training: 100%|██████████| 21/21 [00:16<00:00,  1.32it/s, loss=0.036] \n",
      "                                                           \r"
     ]
    },
    {
     "name": "stdout",
     "output_type": "stream",
     "text": [
      "Building sklearn classifier...\n",
      "Loading bert-base-uncased model...\n",
      "Defaulting to linear classifier/regressor\n",
      "train data size: 667, validation data size: 0\n"
     ]
    },
    {
     "name": "stderr",
     "output_type": "stream",
     "text": [
      "Training: 100%|██████████| 21/21 [00:15<00:00,  1.33it/s, loss=0.686]\n",
      "Training: 100%|██████████| 21/21 [00:16<00:00,  1.32it/s, loss=0.374]\n",
      "Training: 100%|██████████| 21/21 [00:16<00:00,  1.33it/s, loss=0.142]\n",
      "Training: 100%|██████████| 21/21 [00:16<00:00,  1.33it/s, loss=0.0792]\n",
      "                                                           \r"
     ]
    },
    {
     "name": "stdout",
     "output_type": "stream",
     "text": [
      "Building sklearn classifier...\n",
      "Loading bert-base-uncased model...\n",
      "Defaulting to linear classifier/regressor\n",
      "train data size: 666, validation data size: 0\n"
     ]
    },
    {
     "name": "stderr",
     "output_type": "stream",
     "text": [
      "Training: 100%|██████████| 21/21 [00:15<00:00,  1.34it/s, loss=0.705]\n",
      "Training: 100%|██████████| 21/21 [00:16<00:00,  1.32it/s, loss=0.315]\n",
      "Training: 100%|██████████| 21/21 [00:16<00:00,  1.33it/s, loss=0.116]\n",
      "Training: 100%|██████████| 21/21 [00:16<00:00,  1.32it/s, loss=0.0529]\n",
      "                                                           \r"
     ]
    },
    {
     "name": "stdout",
     "output_type": "stream",
     "text": [
      "Building sklearn classifier...\n",
      "Loading bert-base-uncased model...\n",
      "Defaulting to linear classifier/regressor\n",
      "train data size: 667, validation data size: 0\n"
     ]
    },
    {
     "name": "stderr",
     "output_type": "stream",
     "text": [
      "Training: 100%|██████████| 21/21 [00:15<00:00,  1.34it/s, loss=0.684]\n",
      "Training: 100%|██████████| 21/21 [00:16<00:00,  1.33it/s, loss=0.485]\n",
      "Training: 100%|██████████| 21/21 [00:16<00:00,  1.33it/s, loss=0.26] \n",
      "Training: 100%|██████████| 21/21 [00:16<00:00,  1.33it/s, loss=0.127]\n",
      "                                                           \r"
     ]
    },
    {
     "name": "stdout",
     "output_type": "stream",
     "text": [
      "Building sklearn classifier...\n",
      "Loading bert-base-uncased model...\n",
      "Defaulting to linear classifier/regressor\n",
      "train data size: 667, validation data size: 0\n"
     ]
    },
    {
     "name": "stderr",
     "output_type": "stream",
     "text": [
      "Training: 100%|██████████| 21/21 [00:15<00:00,  1.33it/s, loss=0.691]\n",
      "Training: 100%|██████████| 21/21 [00:16<00:00,  1.33it/s, loss=0.437]\n",
      "Training: 100%|██████████| 21/21 [00:16<00:00,  1.33it/s, loss=0.228]\n",
      "Training: 100%|██████████| 21/21 [00:16<00:00,  1.33it/s, loss=0.146]\n",
      "[Parallel(n_jobs=1)]: Done  18 out of  18 | elapsed: 24.2min finished\n"
     ]
    },
    {
     "name": "stdout",
     "output_type": "stream",
     "text": [
      "Building sklearn classifier...\n",
      "Loading bert-base-uncased model...\n",
      "Defaulting to linear classifier/regressor\n",
      "train data size: 1000, validation data size: 0\n"
     ]
    },
    {
     "name": "stderr",
     "output_type": "stream",
     "text": [
      "Training: 100%|██████████| 32/32 [00:24<00:00,  1.45it/s, loss=0.583]\n",
      "Training: 100%|██████████| 32/32 [00:24<00:00,  1.45it/s, loss=0.282]\n",
      "Training: 100%|██████████| 32/32 [00:24<00:00,  1.45it/s, loss=0.15] "
     ]
    },
    {
     "name": "stdout",
     "output_type": "stream",
     "text": [
      "CPU times: user 21min 16s, sys: 9min 59s, total: 31min 16s\n",
      "Wall time: 25min 32s\n"
     ]
    },
    {
     "name": "stderr",
     "output_type": "stream",
     "text": [
      "\n"
     ]
    }
   ],
   "source": [
    "%%time\n",
    "from sklearn.model_selection import GridSearchCV\n",
    "\n",
    "params = {'epochs':[3, 4], 'learning_rate':[2e-5, 3e-5, 5e-5]}\n",
    "\n",
    "# wrap classifier/regressor in GridSearchCV\n",
    "clf = GridSearchCV(BertClassifier(validation_fraction=0), \n",
    "                    params,\n",
    "                    scoring='accuracy',\n",
    "                    verbose=True)\n",
    "\n",
    "# fit gridsearch \n",
    "clf.fit(X_train ,y_train)"
   ]
  },
  {
   "cell_type": "code",
   "execution_count": 6,
   "metadata": {},
   "outputs": [
    {
     "name": "stdout",
     "output_type": "stream",
     "text": [
      "0.891 {'epochs': 3, 'learning_rate': 2e-05}\n",
      "0.891 (+/-0.024) for {'epochs': 3, 'learning_rate': 2e-05}\n",
      "0.882 (+/-0.010) for {'epochs': 3, 'learning_rate': 3e-05}\n",
      "0.814 (+/-0.089) for {'epochs': 3, 'learning_rate': 5e-05}\n",
      "0.877 (+/-0.005) for {'epochs': 4, 'learning_rate': 2e-05}\n",
      "0.885 (+/-0.022) for {'epochs': 4, 'learning_rate': 3e-05}\n",
      "0.883 (+/-0.010) for {'epochs': 4, 'learning_rate': 5e-05}\n"
     ]
    }
   ],
   "source": [
    "# best scores\n",
    "print(clf.best_score_, clf.best_params_)\n",
    "\n",
    "means = clf.cv_results_['mean_test_score']\n",
    "stds = clf.cv_results_['std_test_score']\n",
    "\n",
    "for mean, std, params in zip(means, stds, clf.cv_results_['params']):\n",
    "        print(\"%0.3f (+/-%0.03f) for %r\"\n",
    "              % (mean, std * 2, params))"
   ]
  },
  {
   "cell_type": "code",
   "execution_count": null,
   "metadata": {},
   "outputs": [],
   "source": []
  }
 ],
 "metadata": {
  "kernelspec": {
   "display_name": "Python 3",
   "language": "python",
   "name": "python3"
  },
  "language_info": {
   "codemirror_mode": {
    "name": "ipython",
    "version": 3
   },
   "file_extension": ".py",
   "mimetype": "text/x-python",
   "name": "python",
   "nbconvert_exporter": "python",
   "pygments_lexer": "ipython3",
   "version": "3.6.5"
  }
 },
 "nbformat": 4,
 "nbformat_minor": 2
}
